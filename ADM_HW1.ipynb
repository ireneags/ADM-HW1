{
  "nbformat": 4,
  "nbformat_minor": 0,
  "metadata": {
    "colab": {
      "name": "ADM-HW1.ipynb",
      "provenance": [],
      "collapsed_sections": []
    },
    "kernelspec": {
      "name": "python3",
      "display_name": "Python 3"
    },
    "language_info": {
      "name": "python"
    }
  },
  "cells": [
    {
      "cell_type": "markdown",
      "metadata": {
        "id": "S7I9In7YH4kX"
      },
      "source": [
        "# **Introduction**"
      ]
    },
    {
      "cell_type": "markdown",
      "metadata": {
        "id": "EFG4UAPgGv94"
      },
      "source": [
        "**Say \"Hello, World!\" With Python**"
      ]
    },
    {
      "cell_type": "code",
      "metadata": {
        "id": "WYMrV5rFGJUF"
      },
      "source": [
        "my_string = \"Hello, World!\"\n",
        "print(my_string)"
      ],
      "execution_count": null,
      "outputs": []
    },
    {
      "cell_type": "markdown",
      "metadata": {
        "id": "ozbSsg4XGw61"
      },
      "source": [
        "**Python If-Else**"
      ]
    },
    {
      "cell_type": "code",
      "metadata": {
        "id": "BcaSbG-9GxBg"
      },
      "source": [
        "#!/bin/python3\n",
        "\n",
        "import math\n",
        "import os\n",
        "import random\n",
        "import re\n",
        "import sys\n",
        "\n",
        "\n",
        "\n",
        "if __name__ == '__main__':\n",
        "    n = int(input().strip())\n",
        "    if n in range(1, 101):\n",
        "        if n % 2 != 0:\n",
        "            print(\"Weird\")\n",
        "        elif n in range(2, 6):\n",
        "            print(\"Not Weird\") \n",
        "        elif n in range(6, 21):\n",
        "            print(\"Weird\")\n",
        "        else:\n",
        "            print(\"Not Weird\")\n"
      ],
      "execution_count": null,
      "outputs": []
    },
    {
      "cell_type": "markdown",
      "metadata": {
        "id": "yWDygEGoGxGl"
      },
      "source": [
        "**Arithmetic Operators**"
      ]
    },
    {
      "cell_type": "code",
      "metadata": {
        "id": "iQzLkHwhGxMF"
      },
      "source": [
        "if __name__ == '__main__':\n",
        "    a = int(input())\n",
        "    b = int(input())\n",
        "    print(int(a+b))\n",
        "    print(int(a-b))\n",
        "    print(int(a*b))"
      ],
      "execution_count": null,
      "outputs": []
    },
    {
      "cell_type": "markdown",
      "metadata": {
        "id": "ZrfmdavIGxQt"
      },
      "source": [
        "**Python: Division**"
      ]
    },
    {
      "cell_type": "code",
      "metadata": {
        "id": "USIvpxQ-GxXx"
      },
      "source": [
        "if __name__ == '__main__':\n",
        "    a = int(input())\n",
        "    b = int(input())\n",
        "    print(a // b)\n",
        "    print(a / b)\n"
      ],
      "execution_count": null,
      "outputs": []
    },
    {
      "cell_type": "markdown",
      "metadata": {
        "id": "sfCEdCzbGxcd"
      },
      "source": [
        "**Loops**"
      ]
    },
    {
      "cell_type": "code",
      "metadata": {
        "id": "m7Xqs4HzGxlw"
      },
      "source": [
        "if __name__ == '__main__':\n",
        "    n = int(input())\n",
        "    for i in range(0, n):\n",
        "        print(i**2)\n"
      ],
      "execution_count": null,
      "outputs": []
    },
    {
      "cell_type": "markdown",
      "metadata": {
        "id": "rRnItBC3GxqN"
      },
      "source": [
        "**Write a function**"
      ]
    },
    {
      "cell_type": "code",
      "metadata": {
        "id": "s7iIGm5aGxu0"
      },
      "source": [
        "def is_leap(year):\n",
        "    leap = False\n",
        "    \n",
        "    if year % 4 == 0:\n",
        "        leap = True\n",
        "        if year % 100 == 0:\n",
        "            leap = False\n",
        "            if year % 400 == 0:\n",
        "                leap = True\n",
        "    \n",
        "    return leap"
      ],
      "execution_count": null,
      "outputs": []
    },
    {
      "cell_type": "markdown",
      "metadata": {
        "id": "nWtcmtMRGxz1"
      },
      "source": [
        "**Print Function**"
      ]
    },
    {
      "cell_type": "code",
      "metadata": {
        "id": "o50xNbQnGx4R"
      },
      "source": [
        "if __name__ == '__main__':\n",
        "    n = int(input())\n",
        "    word = \"\"\n",
        "    for i in range(1, n + 1):\n",
        "        word += str(i)\n",
        "    print (word)"
      ],
      "execution_count": null,
      "outputs": []
    },
    {
      "cell_type": "markdown",
      "metadata": {
        "id": "RTOwh6dMIESd"
      },
      "source": [
        "# **Basic Data Types**"
      ]
    },
    {
      "cell_type": "markdown",
      "metadata": {
        "id": "0GtWuDpAGx9F"
      },
      "source": [
        "**List Comprehensions**"
      ]
    },
    {
      "cell_type": "code",
      "metadata": {
        "id": "UFCStCb1GyB9"
      },
      "source": [
        "if __name__ == '__main__':\n",
        "    x = int(input())\n",
        "    y = int(input())\n",
        "    z = int(input())\n",
        "    n = int(input())\n",
        "    print ([[i, j, k] for i in range(x+1) for j in range(y+1) for k in range(z+1) \n",
        "    if i + j + k != n])"
      ],
      "execution_count": null,
      "outputs": []
    },
    {
      "cell_type": "markdown",
      "metadata": {
        "id": "TQRgHYgjGyHD"
      },
      "source": [
        "**Find the Runner-Up Score!**"
      ]
    },
    {
      "cell_type": "code",
      "metadata": {
        "id": "o2Ccm4-DGyLv"
      },
      "source": [
        "if __name__ == '__main__':\n",
        "    n = int(input())\n",
        "    arr = map(int, input().split())\n",
        "    \n",
        "    arr = sorted(arr)\n",
        "    l = []\n",
        "    maximum = max(arr)\n",
        "    for i in arr:\n",
        "        if i != maximum:\n",
        "            l.append(i)\n",
        "    print(max(l))"
      ],
      "execution_count": null,
      "outputs": []
    },
    {
      "cell_type": "markdown",
      "metadata": {
        "id": "yiZWmTEvGyQq"
      },
      "source": [
        "**Nested Lists**"
      ]
    },
    {
      "cell_type": "code",
      "metadata": {
        "id": "0ZhVvgMQGyVd"
      },
      "source": [
        "if __name__ == '__main__':\n",
        "    nested_list = []\n",
        "    for _ in range(int(input())):\n",
        "\n",
        "        name = input()\n",
        "        score = float(input())\n",
        "        \n",
        "        n = [name, score]\n",
        "        nested_list.append(n)\n",
        "    \n",
        "scores = [m[1] for m in nested_list]\n",
        "scores.sort()\n",
        "minimum = min(scores)\n",
        "scores2= [a for a in scores if a != minimum]\n",
        "second_lowest = min(scores2)\n",
        "\n",
        "students = [x[0] for x in nested_list if x[1] == second_lowest]\n",
        "students.sort()\n",
        "for i in students:\n",
        "    print(i)"
      ],
      "execution_count": null,
      "outputs": []
    },
    {
      "cell_type": "markdown",
      "metadata": {
        "id": "GGFyHVkwGyZ6"
      },
      "source": [
        "**Finding the percentage**"
      ]
    },
    {
      "cell_type": "code",
      "metadata": {
        "id": "5Lr8suHxGyeO"
      },
      "source": [
        "if __name__ == '__main__':\n",
        "    n = int(input())\n",
        "    student_marks = {}\n",
        "    for _ in range(n):\n",
        "        name, *line = input().split()\n",
        "        scores = list(map(float, line))\n",
        "        student_marks[name] = scores\n",
        "    query_name = input()\n",
        "\n",
        "    for key, value in student_marks.items():\n",
        "        if key == query_name:\n",
        "            avg = sum(value) / len(value)\n",
        "            avg_dec = format(avg, '.2f')\n",
        "            print(avg_dec)\n"
      ],
      "execution_count": null,
      "outputs": []
    },
    {
      "cell_type": "markdown",
      "metadata": {
        "id": "6EH60Me4GyjW"
      },
      "source": [
        "**Lists**"
      ]
    },
    {
      "cell_type": "code",
      "metadata": {
        "id": "QfLr-QQrGyp2"
      },
      "source": [
        "if __name__ == '__main__':\n",
        "    N = int(input())\n",
        "    \n",
        "    lst = []\n",
        "    for i in range(N): \n",
        "        inp = input().split() \n",
        "        \n",
        "        to_do = inp[0] \n",
        "        if len(inp) >= 2:\n",
        "            pos = int(inp[1]) \n",
        "        if len(inp) == 3: \n",
        "            integer = int(inp[2]) \n",
        "            \n",
        "            \n",
        "        if to_do == \"insert\": \n",
        "            lst.insert(pos,integer) \n",
        "            \n",
        "        if to_do == \"print\": \n",
        "            print(lst) \n",
        "            \n",
        "        if to_do == \"remove\": \n",
        "            lst.remove(pos)\n",
        "            \n",
        "        if to_do == \"append\": \n",
        "            lst.append(pos) \n",
        "            \n",
        "        if to_do == \"sort\": \n",
        "            lst.sort()\n",
        "            \n",
        "        if to_do == \"pop\": \n",
        "            lst.pop() \n",
        "            \n",
        "        if to_do == \"reverse\": \n",
        "            lst.reverse() \n"
      ],
      "execution_count": null,
      "outputs": []
    },
    {
      "cell_type": "markdown",
      "metadata": {
        "id": "FMXO3a2gGyuP"
      },
      "source": [
        "**Tuples**"
      ]
    },
    {
      "cell_type": "code",
      "metadata": {
        "id": "24HXYbUAGyye"
      },
      "source": [
        "if __name__ == '__main__':\n",
        "    n = int(raw_input())\n",
        "    integer_list = map(int, raw_input().split())\n",
        "    \n",
        "    t = tuple(integer_list)\n",
        "    print(hash(t))\n"
      ],
      "execution_count": null,
      "outputs": []
    },
    {
      "cell_type": "markdown",
      "metadata": {
        "id": "CfTK_x-DPO4w"
      },
      "source": [
        "# **Strings**"
      ]
    },
    {
      "cell_type": "markdown",
      "metadata": {
        "id": "5XdJDFqZGy3H"
      },
      "source": [
        "**sWAP cASE**"
      ]
    },
    {
      "cell_type": "code",
      "metadata": {
        "id": "zFPxk8jxGy70"
      },
      "source": [
        "def swap_case(s):\n",
        "    new_str = \"\"\n",
        "    for i in s:\n",
        "        if i.isupper():\n",
        "            new_str += i.lower()\n",
        "        else:\n",
        "            new_str += i.upper()\n",
        "    return new_str"
      ],
      "execution_count": null,
      "outputs": []
    },
    {
      "cell_type": "markdown",
      "metadata": {
        "id": "_nKC1gqsGzBW"
      },
      "source": [
        "**String Split and Join**"
      ]
    },
    {
      "cell_type": "code",
      "metadata": {
        "id": "c1le9FOnGzFn"
      },
      "source": [
        "def split_and_join(line):\n",
        "    l = line.split()\n",
        "    return (\"-\".join(l))\n"
      ],
      "execution_count": null,
      "outputs": []
    },
    {
      "cell_type": "markdown",
      "metadata": {
        "id": "cFhNcq9NGzJ_"
      },
      "source": [
        "**What's Your Name?**"
      ]
    },
    {
      "cell_type": "code",
      "metadata": {
        "id": "KV4f7RSoGzOF"
      },
      "source": [
        "# Complete the 'print_full_name' function below.\n",
        "#\n",
        "# The function is expected to return a STRING.\n",
        "# The function accepts following parameters:\n",
        "#  1. STRING first\n",
        "#  2. STRING last\n",
        "#\n",
        "\n",
        "def print_full_name(first, last):\n",
        "    print(('Hello {name} {surname}! You just delved into python.').format(name = first_name, surname = last_name))"
      ],
      "execution_count": null,
      "outputs": []
    },
    {
      "cell_type": "markdown",
      "metadata": {
        "id": "_4yij2HsGzSu"
      },
      "source": [
        "**Mutations**"
      ]
    },
    {
      "cell_type": "code",
      "metadata": {
        "id": "AYi94TruGzXN"
      },
      "source": [
        "def mutate_string(string, position, character):\n",
        "    new_string = string[:position] + character + string[position+1:]\n",
        "    return new_string"
      ],
      "execution_count": null,
      "outputs": []
    },
    {
      "cell_type": "markdown",
      "metadata": {
        "id": "rXV8D6MjGzbN"
      },
      "source": [
        "**Find a string**"
      ]
    },
    {
      "cell_type": "code",
      "metadata": {
        "id": "bApyOzUfGzfC"
      },
      "source": [
        "def count_substring(string, sub_string):\n",
        "    count = 0\n",
        "    len_str = len(string)\n",
        "    len_sub = len(sub_string)\n",
        "    for i in range(len_str):\n",
        "        if string[i : i + len_sub ] == sub_string:\n",
        "            count += 1\n",
        "    return count\n"
      ],
      "execution_count": null,
      "outputs": []
    },
    {
      "cell_type": "markdown",
      "metadata": {
        "id": "kNM2PUWoP2eD"
      },
      "source": [
        "**String Validators**"
      ]
    },
    {
      "cell_type": "code",
      "metadata": {
        "id": "nzBzUQuqP2it"
      },
      "source": [
        "if __name__ == '__main__':\n",
        "    s = input()\n",
        "\n",
        "    l = []\n",
        "\n",
        "\n",
        "    for i in s:\n",
        "        l.append(i.isalnum())\n",
        "    if True in l:\n",
        "        print (True)\n",
        "    else:\n",
        "        print (False)\n",
        "    l.clear()\n",
        "\n",
        "    for i in s:\n",
        "        l.append(i.isalpha())\n",
        "    if True in l:\n",
        "        print (True)\n",
        "    else:\n",
        "        print (False)\n",
        "    l.clear()\n",
        "\n",
        "    for i in s:\n",
        "        l.append(i.isdigit())\n",
        "    if True in l:\n",
        "        print (True)\n",
        "    else:\n",
        "        print (False)\n",
        "    l.clear()   \n",
        "\n",
        "    for i in s:\n",
        "        l.append(i.islower())\n",
        "    if True in l:\n",
        "        print (True)\n",
        "    else:\n",
        "        print (False)\n",
        "    l.clear()    \n",
        "\n",
        "    for i in s:\n",
        "        l.append(i.isupper())\n",
        "    if True in l:\n",
        "        print (True)\n",
        "    else:\n",
        "        print (False)\n",
        "    l.clear()   "
      ],
      "execution_count": null,
      "outputs": []
    },
    {
      "cell_type": "markdown",
      "metadata": {
        "id": "PJkdlIwcP2m8"
      },
      "source": [
        "**Text Alignment**"
      ]
    },
    {
      "cell_type": "code",
      "metadata": {
        "id": "2-q5vYOiP2tC"
      },
      "source": [
        "#Replace all ______ with rjust, ljust or center. \n",
        "\n",
        "thickness = int(input()) #This must be an odd number\n",
        "c = 'H'\n",
        "\n",
        "#Top Cone\n",
        "for i in range(thickness):\n",
        "    print((c*i).rjust(thickness-1)+c+(c*i).ljust(thickness-1))\n",
        "\n",
        "#Top Pillars\n",
        "for i in range(thickness+1):\n",
        "    print((c*thickness).center(thickness*2)+(c*thickness).center(thickness*6))\n",
        "\n",
        "#Middle Belt\n",
        "for i in range((thickness+1)//2):\n",
        "    print((c*thickness*5).center(thickness*6))    \n",
        "\n",
        "#Bottom Pillars\n",
        "for i in range(thickness+1):\n",
        "    print((c*thickness).center(thickness*2)+(c*thickness).center(thickness*6))     \n",
        "\n",
        "#Bottom Cone\n",
        "for i in range(thickness):\n",
        "    print(((c*(thickness-i-1)).rjust(thickness)+c+(c*(thickness-i-1)).ljust(thickness)).rjust(thickness*6))\n"
      ],
      "execution_count": null,
      "outputs": []
    },
    {
      "cell_type": "markdown",
      "metadata": {
        "id": "6ar7ZHB2P2xq"
      },
      "source": [
        "**Text Wrap**"
      ]
    },
    {
      "cell_type": "code",
      "metadata": {
        "id": "_eOvKKEIP25a"
      },
      "source": [
        "def wrap(string, max_width):\n",
        "    output = textwrap.wrap(string, max_width)\n",
        "    return \"\\n\".join(output)"
      ],
      "execution_count": null,
      "outputs": []
    },
    {
      "cell_type": "markdown",
      "metadata": {
        "id": "wV_DZAwLP294"
      },
      "source": [
        "**Designer Door Mat**"
      ]
    },
    {
      "cell_type": "code",
      "metadata": {
        "id": "_UXzgYBQP3Fa"
      },
      "source": [
        "# Enter your code here. Read input from STDIN. Print output to STDOUT\n",
        "\n",
        "if __name__ == '__main__':\n",
        "    arr = list(map(int, input().split()))\n",
        "\n",
        "    n = arr[0]\n",
        "    m = arr[1]\n",
        "    \n",
        "    for i in range(1, n+1): \n",
        "        if i < (n + 1)/2:\n",
        "            print(((2 * i - 1) * '.|.').center(m,'-'))\n",
        "        if i == (n + 1)/2:\n",
        "            print('WELCOME'.center(m,'-')) \n",
        "        if i > (n + 1)/2: \n",
        "            print(((2*(n-1-i)+3) * '.|.').center(m, '-'))"
      ],
      "execution_count": null,
      "outputs": []
    },
    {
      "cell_type": "markdown",
      "metadata": {
        "id": "sJIzVqe9P3Jp"
      },
      "source": [
        "**String Formatting**"
      ]
    },
    {
      "cell_type": "code",
      "metadata": {
        "id": "jqaHo7Z-P3Nu"
      },
      "source": [
        "def print_formatted(number):\n",
        "    l = len(bin(number)[2:])\n",
        "    for i in range (1,n+1):\n",
        "        dec = str(i).rjust(l)\n",
        "        octal = str(oct(i)[2:]).rjust(l)\n",
        "        hexadec = hex(i)[2:].rjust(l)\n",
        "        binary = bin(i)[2:].rjust(l)\n",
        "        print (dec + ' ' + octal + ' ' + hexadec.upper() + ' ' + binary"
      ],
      "execution_count": null,
      "outputs": []
    },
    {
      "cell_type": "markdown",
      "metadata": {
        "id": "m63FY3zKP3SM"
      },
      "source": [
        "**Alphabet Rangoli**"
      ]
    },
    {
      "cell_type": "code",
      "metadata": {
        "id": "iO7e0qp5P3Wr"
      },
      "source": [
        "# Saw Discussion Tab to solve this problem\n",
        "import string\n",
        "\n",
        "def print_rangoli(size):\n",
        "    lst = []\n",
        "    for i in range(size):\n",
        "        letters = string.ascii_lowercase[i:size] # 'abcdefghijklmnopqrstuvwxyz' from i to size. E.g, if size = 3, this is abc (for i=0)\n",
        "        letters = \"-\".join(letters) #divide letters with - (e.g, a-b-c)\n",
        "        lst.append((letters[::-1] + letters[1:]).center(4*size - 3,\"-\")) #take reversed letters and add letters (without repeating first element) and fill with -.\n",
        "    for i in range(1, size):\n",
        "        print(lst[-i])\n",
        "    for i in range(size):\n",
        "        print(lst[i])"
      ],
      "execution_count": null,
      "outputs": []
    },
    {
      "cell_type": "markdown",
      "metadata": {
        "id": "E-3TSu4jP3bO"
      },
      "source": [
        "**Capitalize!**"
      ]
    },
    {
      "cell_type": "code",
      "metadata": {
        "id": "zk4CntOhP3hV"
      },
      "source": [
        "def solve(s):\n",
        "    new = \"\"\n",
        "    first = s[0]\n",
        "    new += first.upper()\n",
        "    for i in range(1, len(s)):\n",
        "        if s[i - 1] == \" \":\n",
        "            cap = s[i]\n",
        "            new += cap.upper()\n",
        "        else:\n",
        "            new += s[i]\n",
        "    return new"
      ],
      "execution_count": null,
      "outputs": []
    },
    {
      "cell_type": "markdown",
      "metadata": {
        "id": "8dpG5NKQP3ly"
      },
      "source": [
        "**The Minion Game**"
      ]
    },
    {
      "cell_type": "code",
      "metadata": {
        "id": "QHRQb1yZP3qe"
      },
      "source": [
        "def minion_game(string):\n",
        "    vowels = 'AEIOU'\n",
        "  \n",
        "    score_S = 0\n",
        "    score_K = 0\n",
        "    \n",
        "    # The comment by \"robotc142\" in the discussion tab helped me solve this problem:\n",
        "    # \"For the word \"BANANA\", the first vowel 'A' occurs at position 1, len(\"BANANA\") = 6, so there are 6-1 = 5 substrings starting with this letter 'A': ['A', 'AN', 'ANA', 'ANAN', 'ANANA']\"\n",
        "    \n",
        "    for i in range(len(string)):\n",
        "        if string[i] in vowels:\n",
        "            score_K += len(string) - i\n",
        "        else:\n",
        "            score_S += len(string) - i\n",
        "    \n",
        "    if (score_K > score_S):\n",
        "        print('Kevin ' + str(score_K))\n",
        "        \n",
        "    if (score_K < score_S):\n",
        "        print('Stuart ' + str(score_S))\n",
        "\n",
        "    if (score_K == score_S):\n",
        "        print('Draw')"
      ],
      "execution_count": null,
      "outputs": []
    },
    {
      "cell_type": "markdown",
      "metadata": {
        "id": "QLcuq2dzP3vF"
      },
      "source": [
        "**Merge the Tools!**"
      ]
    },
    {
      "cell_type": "code",
      "metadata": {
        "id": "x_ijhi1SP3zK"
      },
      "source": [
        "def merge_the_tools(string, k):\n",
        "    while string:\n",
        "        not_double = ''  # do not consider doubles\n",
        "        line = string[0:k] # generate substring\n",
        "        \n",
        "        for i in line:\n",
        "            if i not in not_double:\n",
        "                not_double += i\n",
        "        print (not_double)\n",
        "        \n",
        "        string = string[k:]  # cut k-substring you just considered"
      ],
      "execution_count": null,
      "outputs": []
    },
    {
      "cell_type": "markdown",
      "metadata": {
        "id": "fK33kMfRRYeP"
      },
      "source": [
        "# **Sets**"
      ]
    },
    {
      "cell_type": "markdown",
      "metadata": {
        "id": "-QlZHXyQP33y"
      },
      "source": [
        "**Introduction to Sets**"
      ]
    },
    {
      "cell_type": "code",
      "metadata": {
        "id": "kdH3CQUOP37s"
      },
      "source": [
        "def average(array):\n",
        "    set_arr = set(array)\n",
        "    count = sum(set_arr)    \n",
        "    avg = float(count / len(set_arr))\n",
        "    return avg"
      ],
      "execution_count": null,
      "outputs": []
    },
    {
      "cell_type": "markdown",
      "metadata": {
        "id": "CpETCmYqRi50"
      },
      "source": [
        "**No Idea!**"
      ]
    },
    {
      "cell_type": "code",
      "metadata": {
        "id": "Dt7ePVA2Ri_V"
      },
      "source": [
        "def happiness (numbers, set_a, set_b):\n",
        "    happy = 0\n",
        "    for i in numbers:\n",
        "        if i in set_a:\n",
        "            happy += 1\n",
        "        if i in set_b:\n",
        "            happy -= 1\n",
        "    return happy\n",
        "\n",
        "if __name__ == '__main__':\n",
        "    n = list(map(int, input().split()))\n",
        "    arr = list(map(int, input().split()))\n",
        "    a = set(map(int, input().split()))\n",
        "    b = set(map(int, input().split()))\n",
        "    result = happiness(arr, a, b)\n",
        "    print(result)"
      ],
      "execution_count": null,
      "outputs": []
    },
    {
      "cell_type": "markdown",
      "metadata": {
        "id": "XemBCS90RjDu"
      },
      "source": [
        "**Symmetric Difference**"
      ]
    },
    {
      "cell_type": "code",
      "metadata": {
        "id": "qg75eiC2RjIL"
      },
      "source": [
        "n = int(input())\n",
        "set_a = set(map(int, input().split()))\n",
        "m = int(input())\n",
        "set_b = set(map(int, input().split()))\n",
        "\n",
        "difference_a = set_a.difference(set_b)\n",
        "difference_b = set_b.difference(set_a)\n",
        "union = difference_a | difference_b\n",
        "\n",
        "union = sorted(union)\n",
        "\n",
        "for i in union:\n",
        "    print (i)"
      ],
      "execution_count": null,
      "outputs": []
    },
    {
      "cell_type": "markdown",
      "metadata": {
        "id": "IdoH1krURjMd"
      },
      "source": [
        "**Set .add()**"
      ]
    },
    {
      "cell_type": "code",
      "metadata": {
        "id": "qhFwbIutRjRA"
      },
      "source": [
        "if __name__ == '__main__':\n",
        "    country_set = set()\n",
        "    for _ in range(int(input())):\n",
        "            country = input()     \n",
        "            country_set.add(country)\n",
        "    print( len(country_set))"
      ],
      "execution_count": null,
      "outputs": []
    },
    {
      "cell_type": "markdown",
      "metadata": {
        "id": "KOMe4y7WRjVr"
      },
      "source": [
        "**Set .discard(), .remove() & .pop()**"
      ]
    },
    {
      "cell_type": "code",
      "metadata": {
        "id": "vVC6mozyRjaL"
      },
      "source": [
        "n = int(input())\n",
        "s = set(map(int, input().split()))\n",
        "\n",
        "numb = int(input())\n",
        "\n",
        "for i in range(numb):\n",
        "    \n",
        "    inp = input().split()     \n",
        "    to_do = inp[0] \n",
        "    \n",
        "    if to_do == \"pop\" :\n",
        "        s.pop()\n",
        "        \n",
        "    elif to_do == \"remove\" :\n",
        "        s.remove(int(inp[1]))\n",
        "        \n",
        "    elif to_do == \"discard\" :\n",
        "        s.discard(int(inp[1]))\n",
        "\n",
        "print (sum(s)) \n"
      ],
      "execution_count": null,
      "outputs": []
    },
    {
      "cell_type": "markdown",
      "metadata": {
        "id": "dIb73_YaRjer"
      },
      "source": [
        "**Set .union() Operation**"
      ]
    },
    {
      "cell_type": "code",
      "metadata": {
        "id": "5qwZVlPHRjjC"
      },
      "source": [
        "n = int(input())\n",
        "eng = set(map(int, input().split()))\n",
        "m = int(input())\n",
        "fr = set(map(int, input().split()))\n",
        "\n",
        "union = eng | fr\n",
        "print(len(union))"
      ],
      "execution_count": null,
      "outputs": []
    },
    {
      "cell_type": "markdown",
      "metadata": {
        "id": "McP3HKWrRjna"
      },
      "source": [
        "**Set .intersection() Operation**"
      ]
    },
    {
      "cell_type": "code",
      "metadata": {
        "id": "yx5-FaCNRjrr"
      },
      "source": [
        "n = int(input())\n",
        "set_a = set(map(int, input().split()))\n",
        "m = int(input())\n",
        "set_b = set(map(int, input().split()))\n",
        "\n",
        "\n",
        "intersection = set_a & set_b\n",
        "\n",
        "print (len(intersection))"
      ],
      "execution_count": null,
      "outputs": []
    },
    {
      "cell_type": "markdown",
      "metadata": {
        "id": "YFDUyBDERjvv"
      },
      "source": [
        "**Set .difference() Operation**"
      ]
    },
    {
      "cell_type": "code",
      "metadata": {
        "id": "oTLjjvM2Rj0T"
      },
      "source": [
        "n = int(input())\n",
        "eng = set(map(int, input().split()))\n",
        "m = int(input())\n",
        "fr = set(map(int, input().split()))\n",
        "\n",
        "only_eng = eng.difference(fr)\n",
        "\n",
        "print (len(only_eng))"
      ],
      "execution_count": null,
      "outputs": []
    },
    {
      "cell_type": "markdown",
      "metadata": {
        "id": "5Pz1oDy8Rj4q"
      },
      "source": [
        "**Set .symmetric_difference() Operation**"
      ]
    },
    {
      "cell_type": "code",
      "metadata": {
        "id": "mHytfRTBRj9L"
      },
      "source": [
        "n = int(input())\n",
        "eng = set(map(int, input().split()))\n",
        "m = int(input())\n",
        "fr = set(map(int, input().split()))\n",
        "\n",
        "union = eng | fr\n",
        "intersection = eng & fr\n",
        "\n",
        "sym_dif = union - intersection\n",
        "print (len(sym_dif))"
      ],
      "execution_count": null,
      "outputs": []
    },
    {
      "cell_type": "markdown",
      "metadata": {
        "id": "a32OrsaqRkBS"
      },
      "source": [
        "**Set Mutations**"
      ]
    },
    {
      "cell_type": "code",
      "metadata": {
        "id": "ZZeYV329RkIz"
      },
      "source": [
        "n = int(input())\n",
        "s = set(map(int, input().split()))\n",
        "m = int(input())\n",
        "\n",
        "\n",
        "for i in range(m):\n",
        "    inp = input().split()     \n",
        "    new_s = set(map(int, input().split()))\n",
        "    \n",
        "    to_do = inp[0]\n",
        "    if to_do == \"intersection_update\":\n",
        "        s.intersection_update(new_s)\n",
        "        \n",
        "    elif to_do == \"update\":\n",
        "        s.update(new_s)\n",
        "        \n",
        "    elif to_do == \"symmetric_difference_update\":\n",
        "        s.symmetric_difference_update(new_s)\n",
        "        \n",
        "    elif to_do == \"difference_update\":\n",
        "        s.difference_update(new_s)\n",
        "        \n",
        "\n",
        "print (sum(s))"
      ],
      "execution_count": null,
      "outputs": []
    },
    {
      "cell_type": "markdown",
      "metadata": {
        "id": "gBPk1y3fRkNO"
      },
      "source": [
        "**The Captain's Room**"
      ]
    },
    {
      "cell_type": "code",
      "metadata": {
        "id": "puYgQiN0RkUU"
      },
      "source": [
        "n = int(input())\n",
        "l = list(map(int, input().split()))\n",
        "\n",
        "s = set()\n",
        "double = set()\n",
        "\n",
        "for i in l:\n",
        "    if i not in s:\n",
        "        s.add(i)\n",
        "    else:\n",
        "        double.add(i)\n",
        "        \n",
        "difference = s - double\n",
        "for el in difference:\n",
        "    print(el)"
      ],
      "execution_count": null,
      "outputs": []
    },
    {
      "cell_type": "markdown",
      "metadata": {
        "id": "kLsZ8rReRkYi"
      },
      "source": [
        "**Check Subset**"
      ]
    },
    {
      "cell_type": "code",
      "metadata": {
        "id": "VU_wmbC8Rkdt"
      },
      "source": [
        "n = int(input())\n",
        "\n",
        "for i in range(n):   \n",
        "    a = int(input())\n",
        "    set_a = set(map(int, input().split()))\n",
        "    b = int(input())\n",
        "    set_b = set(map(int, input().split()))    \n",
        "\n",
        "    \n",
        "    print (set_a.issubset(set_b))"
      ],
      "execution_count": null,
      "outputs": []
    },
    {
      "cell_type": "markdown",
      "metadata": {
        "id": "2fiFq_coRkjI"
      },
      "source": [
        "**Check Strict Superset**"
      ]
    },
    {
      "cell_type": "code",
      "metadata": {
        "id": "nJrMj2HYRknf"
      },
      "source": [
        "set_a = set(map(int, input().split()))\n",
        "n = int(input())\n",
        "\n",
        "l = []\n",
        "for i in range(n):\n",
        "    s = set(map(int, input().split()))\n",
        "    if s.issubset(set_a) == True:\n",
        "        diff = set_a - s\n",
        "        if len(diff) > 0:\n",
        "            l.append(True)\n",
        "        else:\n",
        "            l.append(False)\n",
        "            \n",
        "    else:\n",
        "        l.append(False)\n",
        "        \n",
        "if False in l:\n",
        "    print (False)\n",
        "else:\n",
        "    print (True)"
      ],
      "execution_count": null,
      "outputs": []
    },
    {
      "cell_type": "markdown",
      "metadata": {
        "id": "FCgqbg5OTqM_"
      },
      "source": [
        "# **Collections**"
      ]
    },
    {
      "cell_type": "markdown",
      "metadata": {
        "id": "vLsBVaeMRksC"
      },
      "source": [
        "**collections.Counter()**"
      ]
    },
    {
      "cell_type": "code",
      "metadata": {
        "id": "KZYFRkNORkxE"
      },
      "source": [
        "from collections import Counter\n",
        "\n",
        "n = int(input())\n",
        "sizes = list(map(int, input().split()))\n",
        "\n",
        "\n",
        "\n",
        "n_cust = int(input())\n",
        "\n",
        "revenue = 0\n",
        "\n",
        "for i in range(n_cust):\n",
        "    c = Counter(sizes)\n",
        "    request = input().split()\n",
        "    if int(request[0]) in c.keys():\n",
        "        revenue += int(request[1])\n",
        "        sizes.remove(int(request[0]))\n",
        "        \n",
        "    else:\n",
        "        revenue += 0\n",
        "\n",
        "print (revenue)"
      ],
      "execution_count": null,
      "outputs": []
    },
    {
      "cell_type": "markdown",
      "metadata": {
        "id": "wV40s4s5Rk2K"
      },
      "source": [
        "**DefaultDict Tutorial**"
      ]
    },
    {
      "cell_type": "code",
      "metadata": {
        "id": "Q1H6O5SjRk6q"
      },
      "source": [
        "from collections import defaultdict\n",
        "\n",
        "count = list(map(int, input().split()))\n",
        "\n",
        "a = count[0]\n",
        "b = count[1]\n",
        "\n",
        "d = defaultdict(list)\n",
        "\n",
        "list_a = []\n",
        "for i in range(a):\n",
        "    letter = input()\n",
        "    list_a.append(letter)"
      ],
      "execution_count": null,
      "outputs": []
    },
    {
      "cell_type": "markdown",
      "metadata": {
        "id": "7IuGCbA4Rk_N"
      },
      "source": [
        "**Collections.namedtuple()**"
      ]
    },
    {
      "cell_type": "code",
      "metadata": {
        "id": "CKGblRDORlGK"
      },
      "source": [
        "from collections import namedtuple\n",
        "\n",
        "n = int(input().strip())\n",
        "\n",
        "student = namedtuple(\"Student\", input().split())\n",
        "\n",
        "scores = 0\n",
        "\n",
        "for i in range(n):\n",
        "    ID, MARKS, NAME, CLASS = input().split()\n",
        "    students = student(ID, MARKS, NAME, CLASS)\n",
        "    scores += int(students.MARKS)  # sum over marks \n",
        "print('{:.2f}'.format(scores / n))  # keep two decimals"
      ],
      "execution_count": null,
      "outputs": []
    },
    {
      "cell_type": "markdown",
      "metadata": {
        "id": "Jp9aIDoXRlLB"
      },
      "source": [
        "**Collections.OrderedDict()**"
      ]
    },
    {
      "cell_type": "code",
      "metadata": {
        "id": "O245-k3dRlPS"
      },
      "source": [
        "from collections import OrderedDict\n",
        "\n",
        "n = int(input())\n",
        "\n",
        "d = OrderedDict()\n",
        "\n",
        "\n",
        "        \n",
        "for i in range(n):\n",
        "    lst = list(map(str, input().split()))\n",
        "    for el in range(len(lst)):\n",
        "        if lst[el+1].isalpha():\n",
        "            item = ' '.join(lst[0:2])  # join two-word item names into one\n",
        "            break\n",
        "        else:\n",
        "            item = lst[0]\n",
        "            break\n",
        "    d[item] = d.get(item, 0)  + int(lst[-1]) #add item name and price to dictionary\n",
        "        \n",
        "for key, value in d.items():\n",
        "    print(key, value)"
      ],
      "execution_count": null,
      "outputs": []
    },
    {
      "cell_type": "markdown",
      "metadata": {
        "id": "Cb-pRFMwRlU6"
      },
      "source": [
        "**Word Order**"
      ]
    },
    {
      "cell_type": "code",
      "metadata": {
        "id": "8zbcgGeQRlaM"
      },
      "source": [
        "import collections\n",
        "from collections import Counter\n",
        "\n",
        "n = int(input())\n",
        "\n",
        "lst = [] # contains all words given as input\n",
        "\n",
        "for i in range(n):\n",
        "    lst.append(input())\n",
        "    \n",
        "lst = list(Counter(lst).values()) #create dict with key = word and value = # times word appears\n",
        "\n",
        "print(len(lst)) # number of keys\n",
        "\n",
        "for i in range(len(lst)):\n",
        "    print(lst[i], end = ' ') # print values"
      ],
      "execution_count": null,
      "outputs": []
    },
    {
      "cell_type": "markdown",
      "metadata": {
        "id": "PNopV3RARle6"
      },
      "source": [
        "**Collections.deque()**"
      ]
    },
    {
      "cell_type": "code",
      "metadata": {
        "id": "YAHWqJ1wRljV"
      },
      "source": [
        "from collections import deque\n",
        "\n",
        "n = int(input())\n",
        "d = deque()\n",
        "\n",
        "for i in range(n):\n",
        "    inp = input().split()     \n",
        "    to_do = inp[0] \n",
        "    \n",
        "    if to_do == \"append\":\n",
        "        d.append(inp[1])\n",
        "        \n",
        "    if to_do == \"appendleft\":\n",
        "        d.appendleft(inp[1])\n",
        "        \n",
        "    if to_do == \"pop\":\n",
        "        d.pop()\n",
        "        \n",
        "    if to_do == \"popleft\":\n",
        "        d.popleft()\n",
        "    \n",
        "print(\" \".join(d))"
      ],
      "execution_count": null,
      "outputs": []
    },
    {
      "cell_type": "markdown",
      "metadata": {
        "id": "N6UrjfSFRloe"
      },
      "source": [
        "**Company Logo**"
      ]
    },
    {
      "cell_type": "code",
      "metadata": {
        "id": "BcPRy_ByRlsl"
      },
      "source": [
        "#!/bin/python3\n",
        "\n",
        "import math\n",
        "import os\n",
        "import random\n",
        "import re\n",
        "import sys\n",
        "import collections\n",
        "from collections import Counter\n",
        "\n",
        "\n",
        "if __name__ == '__main__':\n",
        "    s = input()\n",
        "\n",
        "    l = collections.Counter(s).most_common() # get most common elements and their counts \n",
        "\n",
        "    l = sorted(l, key=lambda x: (-x[1], x[0])) # sort by decreasing value, increasing key\n",
        "\n",
        "    for i in range(3):\n",
        "        print(l[i][0], l[i][1])"
      ],
      "execution_count": null,
      "outputs": []
    },
    {
      "cell_type": "markdown",
      "metadata": {
        "id": "juzF37TpRlxL"
      },
      "source": [
        "**Piling Up!**"
      ]
    },
    {
      "cell_type": "code",
      "metadata": {
        "id": "_Rxe03CdRl1S"
      },
      "source": [
        "\"\"\"\n",
        "### only for small inputs ###\n",
        "\n",
        "n = int(input())\n",
        "\n",
        "for i in range(n):\n",
        "    n_blocks = int(input())\n",
        "    blocks = list(map(int, input().split()))\n",
        "    column = []\n",
        "    while len(blocks) > 0:\n",
        "        if (blocks[0] >= blocks[-1]) and ((len(column) == 0) or (column[-1] >=  blocks[0])): \n",
        "            column.append(blocks[0])\n",
        "            blocks.remove(blocks[0])\n",
        "            \n",
        "        elif (blocks[-1] > blocks[0]) and ((len(column) == 0) or (column[-1] >=  blocks[-1])):\n",
        "            column.append(blocks[-1])\n",
        "            blocks.remove(blocks[-1])\n",
        "            \n",
        "        else:\n",
        "            print (\"No\")\n",
        "            break\n",
        "    else:\n",
        "\n",
        "        print(\"Yes\")\n",
        "\"\"\"\n",
        "#Saw Discussion's tab\n",
        "n = int(input())\n",
        "\n",
        "for i in range(n):\n",
        "    n_blocks = int(input())\n",
        "    blocks = list(map(int, input().split()))\n",
        "    column = 0\n",
        "       \n",
        "    while column < n_blocks-1 and blocks[column] >= blocks[column+1]: # check if\n",
        "    # block(i) is larger than block(i+1), i.e, if block(i) can be underneath block(i+1)\n",
        "        column +=1 # add block to column\n",
        "    while column < n_blocks-1 and blocks[column] <= blocks[column+1]:\n",
        "        column +=1\n",
        "    if column == len(blocks) - 1:\n",
        "        print (\"Yes\")\n",
        "    else:\n",
        "        print (\"No\")"
      ],
      "execution_count": null,
      "outputs": []
    },
    {
      "cell_type": "markdown",
      "metadata": {
        "id": "3ZhHKf_gVDL0"
      },
      "source": [
        "# **Date and Time**"
      ]
    },
    {
      "cell_type": "markdown",
      "metadata": {
        "id": "W0mCdmo_VDVj"
      },
      "source": [
        "**Calendar Module**"
      ]
    },
    {
      "cell_type": "code",
      "metadata": {
        "id": "jM84LlAaVDf1"
      },
      "source": [
        "import calendar\n",
        "\n",
        "inp = list(map(int, input().split()))\n",
        "days = [\"Monday\", \"Tuesday\", \"Wednesday\", \"Thursday\", \n",
        "\"Friday\", \"Saturday\", \"Sunday\"]\n",
        "\n",
        "index = calendar.weekday(inp[2], inp[0], inp[1])\n",
        "print(days[index].upper())"
      ],
      "execution_count": null,
      "outputs": []
    },
    {
      "cell_type": "markdown",
      "metadata": {
        "id": "Nb5IqzM7VDl1"
      },
      "source": [
        "**Time Delta**"
      ]
    },
    {
      "cell_type": "code",
      "metadata": {
        "id": "mDRObp1UVDqD"
      },
      "source": [
        "import math\n",
        "import os\n",
        "import random\n",
        "import re\n",
        "import sys\n",
        "from datetime import datetime\n",
        "\n",
        "# Complete the time_delta function below.\n",
        "\n",
        "\n",
        "# Note: https://docs.python.org/3/library/datetime.html#strftime-and-strptime-behavior\n",
        "def time_delta(t1, t2):\n",
        "    time1 = datetime.strptime(t1,'%a %d %b %Y %H:%M:%S %z')\n",
        "    time2 = datetime.strptime(t2,'%a %d %b %Y %H:%M:%S %z')\n",
        "    return str(abs(int((time2 - time1).total_seconds())))\n",
        "\n",
        "if __name__ == '__main__':\n",
        "    fptr = open(os.environ['OUTPUT_PATH'], 'w')\n",
        "\n",
        "    t = int(input())\n",
        "\n",
        "    for t_itr in range(t):\n",
        "        t1 = input()\n",
        "\n",
        "        t2 = input()\n",
        "\n",
        "        delta = time_delta(t1, t2)\n",
        "\n",
        "        fptr.write(delta + '\\n')\n",
        "\n",
        "    fptr.close()"
      ],
      "execution_count": null,
      "outputs": []
    },
    {
      "cell_type": "markdown",
      "metadata": {
        "id": "05BLHAd7VhMM"
      },
      "source": [
        "# **Errors and Exceptions**"
      ]
    },
    {
      "cell_type": "markdown",
      "metadata": {
        "id": "FJPbISARVDuv"
      },
      "source": [
        "**Exceptions**"
      ]
    },
    {
      "cell_type": "code",
      "metadata": {
        "id": "ort8US-RVD0L"
      },
      "source": [
        "n = int(input())\n",
        "\n",
        "for i in range(n):\n",
        "    try:\n",
        "        a, b = map(int, input().split())\n",
        "        print (a // b)\n",
        "    except ZeroDivisionError as e:\n",
        "        print (\"Error Code:\", e)\n",
        "    except ValueError as v:\n",
        "        print (\"Error Code:\", v)"
      ],
      "execution_count": null,
      "outputs": []
    },
    {
      "cell_type": "markdown",
      "metadata": {
        "id": "dnLBuI0zVD4y"
      },
      "source": [
        "# **Built-Ins**"
      ]
    },
    {
      "cell_type": "markdown",
      "metadata": {
        "id": "hfCkHSRlV0Tf"
      },
      "source": [
        "**Zipped!**"
      ]
    },
    {
      "cell_type": "code",
      "metadata": {
        "id": "HS97gDcIVD9U"
      },
      "source": [
        "\"\"\"\n",
        "# Without zip\n",
        "\n",
        "n, x = map(int, input().split())\n",
        "\n",
        "lists = [[] for _ in range(n)]\n",
        "\n",
        "\n",
        "for i in range(x):\n",
        "    grades = list(map(float, input().split()))\n",
        "    \n",
        "    for g in range(n):\n",
        "        lists[g].append(grades[g])\n",
        "        \n",
        "for el in lists:\n",
        "    print (sum(el) / len(el))\n",
        "\"\"\"\n",
        "\n",
        "# With zip()\n",
        "\n",
        "n, x = map(int, input().split())\n",
        "\n",
        "lists = []\n",
        "for i in range(x):\n",
        "    l = list(map(float, input().split()))\n",
        "    lists += [l]\n",
        " \n",
        "    \n",
        "zipped = zip(*lists)\n",
        "\n",
        "for el in zipped:\n",
        "    print (sum(el) / len(el))"
      ],
      "execution_count": null,
      "outputs": []
    },
    {
      "cell_type": "markdown",
      "metadata": {
        "id": "MpC6KRdiVEBk"
      },
      "source": [
        "**Athlete Sort**"
      ]
    },
    {
      "cell_type": "code",
      "metadata": {
        "id": "Icm-MUkcVEF9"
      },
      "source": [
        "import math\n",
        "import os\n",
        "import random\n",
        "import re\n",
        "import sys\n",
        "\n",
        "\n",
        "\n",
        "if __name__ == '__main__':\n",
        "    nm = input().split()\n",
        "\n",
        "    n = int(nm[0])\n",
        "\n",
        "    m = int(nm[1])\n",
        "\n",
        "    arr = []\n",
        "\n",
        "    for _ in range(n):\n",
        "        arr.append(list(map(int, input().rstrip().split())))\n",
        "\n",
        "    k = int(input())\n",
        "\n",
        "    sort_arr = sorted(arr, key=lambda x: x[k])\n",
        "    \n",
        "    for el in sort_arr:\n",
        "        print(*el)"
      ],
      "execution_count": null,
      "outputs": []
    },
    {
      "cell_type": "markdown",
      "metadata": {
        "id": "gIjyO_w_VEJ8"
      },
      "source": [
        "**ginortS**"
      ]
    },
    {
      "cell_type": "code",
      "metadata": {
        "id": "ZYh6zllgVEOi"
      },
      "source": [
        "word = input()\n",
        "\n",
        "lower = []\n",
        "upper = []\n",
        "\n",
        "odd = []\n",
        "even = []\n",
        "\n",
        "\n",
        "for i in word:\n",
        "    if i.isalpha() == True:\n",
        "        if i.isupper() == True:\n",
        "            upper.append(i)\n",
        "        else:\n",
        "            lower.append(i)\n",
        "    else:\n",
        "        if int(i) % 2 == 0:\n",
        "            even.append(i)\n",
        "        else:\n",
        "            odd.append(i)\n",
        "            \n",
        "lower.sort()\n",
        "upper.sort()\n",
        "odd.sort()\n",
        "even.sort()\n",
        "\n",
        "lower_string = \"\". join(lower)\n",
        "upper_string = \"\". join(upper)\n",
        "odd_string = \"\". join(odd)\n",
        "even_string = \"\". join(even)\n",
        "\n",
        "output = lower_string + upper_string + odd_string + even_string\n",
        "\n",
        "print(output)"
      ],
      "execution_count": null,
      "outputs": []
    },
    {
      "cell_type": "markdown",
      "metadata": {
        "id": "tPKyoY9JVESd"
      },
      "source": [
        "# **Python Functionals**"
      ]
    },
    {
      "cell_type": "markdown",
      "metadata": {
        "id": "l_tec76FWZG0"
      },
      "source": [
        "**Map and Lambda Function**"
      ]
    },
    {
      "cell_type": "code",
      "metadata": {
        "id": "kUVPkkonVEWr"
      },
      "source": [
        "cube = lambda x: x*x*x\n",
        "\n",
        "def fibonacci(n):\n",
        "    # return a list of fibonacci numbers\n",
        "    l = [0, 1]\n",
        "    x = 0\n",
        "    y = 1\n",
        "    for i in range(2, n):\n",
        "        m = x + y\n",
        "        l.append(m)\n",
        "        x = y\n",
        "        y = m\n",
        "    return l[0:n]  # return empty list when n = 0"
      ],
      "execution_count": null,
      "outputs": []
    },
    {
      "cell_type": "markdown",
      "metadata": {
        "id": "tk_03Tg9VEa_"
      },
      "source": [
        "# **Regex and Parsing**"
      ]
    },
    {
      "cell_type": "markdown",
      "metadata": {
        "id": "2AVtdSMRW1ok"
      },
      "source": [
        "**Detect Floating Point Number**"
      ]
    },
    {
      "cell_type": "code",
      "metadata": {
        "id": "LVqxZ2miVEfG"
      },
      "source": [
        "n = int(input())\n",
        "\n",
        "for i in range(n):\n",
        "    number = input()\n",
        "    \n",
        "    try:\n",
        "        number_flo = float(number)\n",
        "        dot = number.find(\".\")\n",
        "        after_dot = number[dot:]\n",
        "        if len(after_dot) == 1:\n",
        "            print (False)\n",
        "        else:\n",
        "            print (True)\n",
        "    \n",
        "    except ValueError as e:\n",
        "        print (False)"
      ],
      "execution_count": null,
      "outputs": []
    },
    {
      "cell_type": "markdown",
      "metadata": {
        "id": "8nwEnFtgVFP8"
      },
      "source": [
        "**Re.split()**"
      ]
    },
    {
      "cell_type": "code",
      "metadata": {
        "id": "b--ffYXVVGBD"
      },
      "source": [
        "regex_pattern = r\"[.,]\"\t# square brackets to specify characters we're interested in"
      ],
      "execution_count": null,
      "outputs": []
    },
    {
      "cell_type": "markdown",
      "metadata": {
        "id": "Yxkz69tJVFVK"
      },
      "source": [
        "**Group(), Groups() & Groupdict()**"
      ]
    },
    {
      "cell_type": "code",
      "metadata": {
        "id": "7YzQoiT-VEjU"
      },
      "source": [
        "import re\n",
        "\n",
        "s = input()\n",
        "\n",
        "m = re.search(r'([a-zA-Z0-9])\\1+', s) # extract chunks of 1 or more letters or digits\n",
        "\n",
        "if m is None:\n",
        "    print(str(-1))\n",
        "    \n",
        "else:\n",
        "    print(m.group(1))"
      ],
      "execution_count": null,
      "outputs": []
    },
    {
      "cell_type": "markdown",
      "metadata": {
        "id": "JfeAx3SwXLQM"
      },
      "source": [
        "**Re.findall() & Re.finditer()**"
      ]
    },
    {
      "cell_type": "code",
      "metadata": {
        "id": "yFYsk0bCXLWN"
      },
      "source": [
        "import re\n",
        "\n",
        "s = input()\n",
        "\n",
        "regex_pattern = r'[^aiueo]([aiueoAIUEO]{2,})(?=[^aiueo])' # find two or more vowels preceeded and followed by consonants\n",
        "\n",
        "m = re.findall(regex_pattern, s)\n",
        "\n",
        "if not m:\n",
        "    print('-1')\n",
        "else:\n",
        "    for i in range(len(m)):\n",
        "        print(m[i])"
      ],
      "execution_count": null,
      "outputs": []
    },
    {
      "cell_type": "markdown",
      "metadata": {
        "id": "39FycPb5XLa5"
      },
      "source": [
        "**Re.start() & Re.end()**"
      ]
    },
    {
      "cell_type": "code",
      "metadata": {
        "id": "G2k8SnHqXLfF"
      },
      "source": [
        "import re\n",
        "\n",
        "S = input()\n",
        "k = input()\n",
        "\n",
        "regex_pattern = r'(?='+ k + ')'  # \"?=\" asserts that k immediately follows \n",
        "\n",
        "m = list(re.finditer(regex_pattern, S))\n",
        "\n",
        "if m:\n",
        "    for i in m:\n",
        "         print((i.start(), i.start() + len(k) - 1))        \n",
        "\n",
        "else:\n",
        "    print('(-1, -1)')"
      ],
      "execution_count": null,
      "outputs": []
    },
    {
      "cell_type": "markdown",
      "metadata": {
        "id": "OPZlKM6yXLjT"
      },
      "source": [
        "**Regex Substitution**"
      ]
    },
    {
      "cell_type": "code",
      "metadata": {
        "id": "MAvs4Bf1XLoY"
      },
      "source": [
        "import re\n",
        "\n",
        "n = int(input())\n",
        "\n",
        "for i in range(n):\n",
        "    s = input()\n",
        "    s = re.sub(r\"(?<= )&&(?= )\", \"and\", s)  # find '&&' and substitute with 'and'\n",
        "    s = re.sub(r\"(?<= )(\\|\\|)(?= )\", \"or\", s) # find '||' and substitute with  'or'\n",
        "    print(s)"
      ],
      "execution_count": null,
      "outputs": []
    },
    {
      "cell_type": "markdown",
      "metadata": {
        "id": "H52TijU8XLsl"
      },
      "source": [
        "**Validating Roman Numerals**"
      ]
    },
    {
      "cell_type": "code",
      "metadata": {
        "id": "Ldr4kPEgXLw_"
      },
      "source": [
        "regex_pattern = r'^M{0,3}(CM|CD|D?C{0,3})(XC|XL|L?X{0,3})(IX|IV|V?I{0,3})$'"
      ],
      "execution_count": null,
      "outputs": []
    },
    {
      "cell_type": "markdown",
      "metadata": {
        "id": "XG9PuWC0XL1D"
      },
      "source": [
        "**Validating phone numbers**"
      ]
    },
    {
      "cell_type": "code",
      "metadata": {
        "id": "6wHDPoJ1XL5A"
      },
      "source": [
        "import re\n",
        "\n",
        "n = int(input())\n",
        "\n",
        "\n",
        "for i in range(n):\n",
        "    number = input()\n",
        "    if re.match(r\"[789]\\d{9}$\", number): #d{9} is 9 digits\n",
        "        print(\"YES\")\n",
        "    else:\n",
        "        print(\"NO\")"
      ],
      "execution_count": null,
      "outputs": []
    },
    {
      "cell_type": "markdown",
      "metadata": {
        "id": "T0plaXDmXL89"
      },
      "source": [
        "**Validating and Parsing Email Addresses**"
      ]
    },
    {
      "cell_type": "code",
      "metadata": {
        "id": "1-0BDiQkXMBT"
      },
      "source": [
        "import re\n",
        "\n",
        "n = int(input())\n",
        "regex_pattern = re.compile(\"<[a-z][a-zA-Z0-9\\-\\.\\_]+@[a-zA-Z]+\\.[a-zA-Z]{1,3}>\")\n",
        "\n",
        "for i in range(n):\n",
        "    name, mail = input().split()\n",
        "    if bool(re.match(regex_pattern, mail)) == True:  # if true\n",
        "        print(name, mail)"
      ],
      "execution_count": null,
      "outputs": []
    },
    {
      "cell_type": "markdown",
      "metadata": {
        "id": "avmdV_cHXMF8"
      },
      "source": [
        "**Hex Color Code**"
      ]
    },
    {
      "cell_type": "code",
      "metadata": {
        "id": "3BJavHGkXMKo"
      },
      "source": [
        "import re\n",
        "\n",
        "n = int(input())\n",
        "\n",
        "s = [input() for i in range(n)] # each input line is an element of list s\n",
        "regex_pattern = r'(?<=.)#{1}[0-9A-Fa-f]{3,6}' # find CSS codes:\n",
        "    # 1 number sign, followed by 3 or 6 digits (0 to 9) and letters (a to f, or A to F)\n",
        "\n",
        "for i in range(len(s)):\n",
        "    \n",
        "    matches = re.findall(regex_pattern, s[i]) \n",
        "    for el in matches:\n",
        "        print(el)"
      ],
      "execution_count": null,
      "outputs": []
    },
    {
      "cell_type": "markdown",
      "metadata": {
        "id": "zRI5wQH4XMP_"
      },
      "source": [
        "**HTML Parser - Part 1**"
      ]
    },
    {
      "cell_type": "code",
      "metadata": {
        "id": "Eod7BLZHXMT_"
      },
      "source": [
        "from html.parser import HTMLParser\n",
        "\n",
        "class MyHTMLParser(HTMLParser):\n",
        "    def handle_starttag(self, tag, attrs):\n",
        "        print (\"Start : \" + tag)\n",
        "        for a in attrs:\n",
        "            print ('-> ' + a[0] + ' > ' + str(a[1]))\n",
        "    def handle_endtag(self, tag):\n",
        "        print(\"End   : \" + tag)\n",
        "    def handle_startendtag(self, tag, attrs):\n",
        "        print(\"Empty : \" + tag)\n",
        "        for a in attrs:\n",
        "            print('-> ' + a[0] + ' > ' + str(a[1]))\n",
        "\n",
        "\n",
        "parser = MyHTMLParser()\n",
        "for _ in range(int(input())):\n",
        "    parser.feed(input())"
      ],
      "execution_count": null,
      "outputs": []
    },
    {
      "cell_type": "markdown",
      "metadata": {
        "id": "gSgjUnxIXMY3"
      },
      "source": [
        "**HTML Parser - Part 2**"
      ]
    },
    {
      "cell_type": "code",
      "metadata": {
        "id": "xn_QrSVuXMdC"
      },
      "source": [
        "from html.parser import HTMLParser\n",
        "\n",
        "class MyHTMLParser(HTMLParser): \n",
        "    def handle_data(self, data):\n",
        "        if data != \"\\n\":\n",
        "            print(\">>> Data\")\n",
        "            print(data)\n",
        "\n",
        "    def handle_comment(self, data):\n",
        "        if \"\\n\" in data:\n",
        "            print(\">>> Multi-line Comment  \")\n",
        "            print(data)\n",
        "        else:\n",
        "            print(\">>> Single-line Comment  \")\n",
        "            print(data)\n",
        "  \n",
        "html = \"\"       \n",
        "for i in range(int(input())):\n",
        "    html += input().rstrip()\n",
        "    html += '\\n'\n",
        "    \n",
        "parser = MyHTMLParser()\n",
        "parser.feed(html)\n",
        "parser.close()"
      ],
      "execution_count": null,
      "outputs": []
    },
    {
      "cell_type": "markdown",
      "metadata": {
        "id": "Z5Vg0RWaXMhE"
      },
      "source": [
        "**Detect HTML Tags, Attributes and Attribute Values**"
      ]
    },
    {
      "cell_type": "code",
      "metadata": {
        "id": "CqUU93lhXMlT"
      },
      "source": [
        "from html.parser import HTMLParser\n",
        "\n",
        "class MyHTMLParser(HTMLParser):\n",
        "    def handle_starttag(self, tag, attrs):\n",
        "        print(tag)\n",
        "        for a in attrs:\n",
        "            print(\"->\" + \" \" + a[0] + \" >\" + \" \" + a[1])\n",
        "\n",
        "parser = MyHTMLParser()\n",
        "for i in range(int(input())):\n",
        "    n = input()\n",
        "    parser.feed(n)"
      ],
      "execution_count": null,
      "outputs": []
    },
    {
      "cell_type": "markdown",
      "metadata": {
        "id": "n92GHSEZZONV"
      },
      "source": [
        "**Validating UID**"
      ]
    },
    {
      "cell_type": "code",
      "metadata": {
        "id": "bTjwq42UZOTk"
      },
      "source": [
        "import re\n",
        "\n",
        "def UID(uid):\n",
        "    lst = []\n",
        "    for i in range(len(uid)):\n",
        "        lst.append(uid[i])\n",
        "    lst.sort()\n",
        "    uid_ordered = ''.join(lst)  #from \"B1CD102354\" to \"0112345BCD\"\n",
        "\n",
        "    m = re.findall(r'[A-Z]', uid_ordered )\n",
        "    if len(m) < 2:  # does not contain at least 2 uppercase English alphabet characters\n",
        "        return 'Invalid'\n",
        "\n",
        "    m = re.findall(r'[0-9]', uid_ordered)\n",
        "    if len(m) < 3: # does not contain at least 3 digits\n",
        "        return 'Invalid'\n",
        "\n",
        "    m = re.findall(r'[a-zA-Z0-9]{10}', uid)\n",
        "    if m[0] != uid: # does not contain only alphanumeric characters\n",
        "        return 'Invalid'\n",
        "\n",
        "    for i in range(len(uid_ordered)-1):\n",
        "        if uid_ordered[i] == uid_ordered[i+1]: # uid is ordered. \n",
        "        # Do not accept char i equal to char i + 1\n",
        "            return 'Invalid' \n",
        "\n",
        "    return 'Valid' # all conditions respected\n",
        "\n",
        "n = int(input())\n",
        "\n",
        "for i in range(n):\n",
        "    s = input()\n",
        "    print(UID(s))"
      ],
      "execution_count": null,
      "outputs": []
    },
    {
      "cell_type": "markdown",
      "metadata": {
        "id": "2Ya6hIlRZOYO"
      },
      "source": [
        "**Validating Credit Card Numbers**"
      ]
    },
    {
      "cell_type": "code",
      "metadata": {
        "id": "3KRASMhPZOcM"
      },
      "source": [
        "import re\n",
        "\n",
        "n = int(input())\n",
        "\n",
        "for i in range(n):\n",
        "    number = input()\n",
        "    regex_pattern1 = r\"^(\\d{4}-?){3}\\d{4}$\" # three times 0000- and one time 0000 (0 = any digit)\n",
        "    hyphens = re.match(regex_pattern1, number)\n",
        "    number_no_hyphens = number.replace(\"-\", \"\")\n",
        "    \n",
        "    regex_pattern2 = r\"^([456])(?!\\1{3})(?:(\\d)(?!\\2{3})){15}$\" \n",
        "    m = re.match(regex_pattern2, number_no_hyphens)\n",
        "   \n",
        "    if hyphens and m:\n",
        "        print(\"Valid\")\n",
        "    else:\n",
        "        print(\"Invalid\")"
      ],
      "execution_count": null,
      "outputs": []
    },
    {
      "cell_type": "markdown",
      "metadata": {
        "id": "nMBA9gsEZOgz"
      },
      "source": [
        "**Validating Postal Codes**"
      ]
    },
    {
      "cell_type": "code",
      "metadata": {
        "id": "eb5oBuQLZOk9"
      },
      "source": [
        "#Saw Discussion tab to solve this exercise\n",
        "regex_integer_in_range = r\"^(?=[1-9])[\\d]{6}$\"\t# number in the range from 100000 to 999999 inclusive. \n",
        "\n",
        "regex_alternating_repetitive_digit_pair = r\"(\\d)(?=.\\1)\""
      ],
      "execution_count": null,
      "outputs": []
    },
    {
      "cell_type": "markdown",
      "metadata": {
        "id": "PkL8E38sZOsB"
      },
      "source": [
        "**Matrix Script**"
      ]
    },
    {
      "cell_type": "code",
      "metadata": {
        "id": "w7DT6dv3ZOwq"
      },
      "source": [
        "import math\n",
        "import os\n",
        "import random\n",
        "import re\n",
        "import sys\n",
        "\n",
        "\n",
        "\n",
        "\n",
        "first_multiple_input = input().rstrip().split()\n",
        "\n",
        "n = int(first_multiple_input[0])\n",
        "\n",
        "m = int(first_multiple_input[1])\n",
        "\n",
        "matrix = []\n",
        "\n",
        "for _ in range(n):\n",
        "    matrix_item = input()\n",
        "    matrix.append(matrix_item)\n",
        "\n",
        "\n",
        "for i in range(m):\n",
        "    word = \"\"\n",
        "for col in range (m):\n",
        "    for row in range (n):\n",
        "        word += matrix[row][col]\n",
        "result = re.sub(r\"\\b[!@#$%& ]+\\b\",\" \", word) # replace symbols in [] with space\n",
        "print(result)"
      ],
      "execution_count": null,
      "outputs": []
    },
    {
      "cell_type": "markdown",
      "metadata": {
        "id": "D6Up3ZkiZ6lk"
      },
      "source": [
        "# **XML**"
      ]
    },
    {
      "cell_type": "markdown",
      "metadata": {
        "id": "pdXGv_DFZO0o"
      },
      "source": [
        "**XML 1 - Find the Score**"
      ]
    },
    {
      "cell_type": "code",
      "metadata": {
        "id": "kB9tAuICZO5E"
      },
      "source": [
        "# read https://www.datacamp.com/community/tutorials/python-xml-elementtree\n",
        "\n",
        "def get_attr_number(node):\n",
        "    score = 0\n",
        "    for el in node.iter(): # list all subelements under the node\n",
        "        n_attr = len(el.attrib) # count all attributes for each element\n",
        "        score += n_attr\n",
        "    return score"
      ],
      "execution_count": null,
      "outputs": []
    },
    {
      "cell_type": "markdown",
      "metadata": {
        "id": "Or10HdYNZO9h"
      },
      "source": [
        "**XML2 - Find the Maximum Depth**"
      ]
    },
    {
      "cell_type": "code",
      "metadata": {
        "id": "hojcf5bPZPBc"
      },
      "source": [
        "maxdepth = 0\n",
        "def depth(elem, level):\n",
        "    global maxdepth\n",
        "    # your code goes here\n",
        "    level += 1 # go to 0. Default is -1\n",
        "    if level >= maxdepth: \n",
        "        maxdepth = level # maxdepth is the value stored in level's variable\n",
        "    for child in elem: # for each child level\n",
        "        depth(child, level) # repeat\n"
      ],
      "execution_count": null,
      "outputs": []
    },
    {
      "cell_type": "markdown",
      "metadata": {
        "id": "OIWT_LUYZPGN"
      },
      "source": [
        "# **Closures and Decorators**"
      ]
    },
    {
      "cell_type": "markdown",
      "metadata": {
        "id": "eLHK0gGgaTYP"
      },
      "source": [
        "**Standardize Mobile Number Using Decorators**"
      ]
    },
    {
      "cell_type": "code",
      "metadata": {
        "id": "8JpbtiuwZPLU"
      },
      "source": [
        "def wrapper(f):\n",
        "    def fun(l):\n",
        "        phones_list = []\n",
        "        for number in l:   \n",
        "            phone = '+91 {} {}'.format(number[-10: -5], number[-5:])\n",
        "            phones_list.append(phone)\n",
        "        return f(phones_list)\n",
        "    return fun"
      ],
      "execution_count": null,
      "outputs": []
    },
    {
      "cell_type": "markdown",
      "metadata": {
        "id": "bl0MnMuWZPQy"
      },
      "source": [
        "**Decorators 2 - Name Directory**"
      ]
    },
    {
      "cell_type": "code",
      "metadata": {
        "id": "CzX74A8TZPVM"
      },
      "source": [
        "def person_lister(f):\n",
        "    def inner(people):\n",
        "        people_list = sorted(people, key=lambda x: int(x[2]))\n",
        "        return (f(person) for person in people_list)\n",
        "    return inner"
      ],
      "execution_count": null,
      "outputs": []
    },
    {
      "cell_type": "markdown",
      "metadata": {
        "id": "2SS0YJ-8aniN"
      },
      "source": [
        "# **Numpy**"
      ]
    },
    {
      "cell_type": "markdown",
      "metadata": {
        "id": "HukRjUVLZPZ3"
      },
      "source": [
        "**Arrays**"
      ]
    },
    {
      "cell_type": "code",
      "metadata": {
        "id": "kkWjRY71ZPed"
      },
      "source": [
        "def arrays(arr):\n",
        "    # complete this function\n",
        "    # use numpy.array  \n",
        "    l_fl = [float(i) for i in arr][::-1]\n",
        "    l = numpy.array(l_fl)\n",
        "    return l\n"
      ],
      "execution_count": null,
      "outputs": []
    },
    {
      "cell_type": "markdown",
      "metadata": {
        "id": "vA1VtaQVZPlM"
      },
      "source": [
        "**Shape and Reshape**"
      ]
    },
    {
      "cell_type": "code",
      "metadata": {
        "id": "Wcq9jUkgZPpw"
      },
      "source": [
        "import numpy\n",
        "\n",
        "l = list(map(int, input().split()))\n",
        "my_array = numpy.array(l)\n",
        "print (numpy.reshape(my_array,(3,3)))"
      ],
      "execution_count": null,
      "outputs": []
    },
    {
      "cell_type": "markdown",
      "metadata": {
        "id": "HF2CqgCJazpN"
      },
      "source": [
        "**Transpose and Flatten**"
      ]
    },
    {
      "cell_type": "code",
      "metadata": {
        "id": "EvCuFLhIazyb"
      },
      "source": [
        "import numpy\n",
        "\n",
        "n, m = map(int, input().split())\n",
        "\n",
        "l = []\n",
        "\n",
        "for i in range(n):\n",
        "    arr = list(map(int, input().split()))\n",
        "    l.append(arr)\n",
        "    \n",
        "my_array = numpy.array(l)\n",
        "\n",
        "print (numpy.transpose(my_array))\n",
        "print (my_array.flatten())\n"
      ],
      "execution_count": null,
      "outputs": []
    },
    {
      "cell_type": "markdown",
      "metadata": {
        "id": "KxpYmXkWaz3m"
      },
      "source": [
        "**Concatenate**"
      ]
    },
    {
      "cell_type": "code",
      "metadata": {
        "id": "qudPWixGaz8M"
      },
      "source": [
        "import numpy\n",
        "\n",
        "n, m, p = map(int, input().split())\n",
        "\n",
        "list1 = []\n",
        "list2 = []\n",
        "\n",
        "for i in range(n):\n",
        "    arr1 = list(map(int, input().split()))\n",
        "    list1.append(arr1)\n",
        "    \n",
        "for i in range(m):\n",
        "    arr2 = list(map(int, input().split()))\n",
        "    list2.append(arr2)\n",
        "    \n",
        "array_1 = numpy.array(list1)\n",
        "array_2 = numpy.array(list2)  \n",
        "\n",
        "print (numpy.concatenate((array_1, array_2), axis = 0))"
      ],
      "execution_count": null,
      "outputs": []
    },
    {
      "cell_type": "markdown",
      "metadata": {
        "id": "vXGYAJbAa0Bp"
      },
      "source": [
        "**Zeros and Ones**"
      ]
    },
    {
      "cell_type": "code",
      "metadata": {
        "id": "aIYkU3LUa0GL"
      },
      "source": [
        "import numpy\n",
        "\n",
        "dimension = tuple(map(int,(input().split())))\n",
        "\n",
        "array1 = numpy.zeros((dimension), dtype = numpy.int)\n",
        "print(array1)\n",
        "    \n",
        "array2 = numpy.ones((dimension), dtype = numpy.int)\n",
        "print(array2)"
      ],
      "execution_count": null,
      "outputs": []
    },
    {
      "cell_type": "markdown",
      "metadata": {
        "id": "NjtUpu56a0LD"
      },
      "source": [
        "**Eye and Identity**"
      ]
    },
    {
      "cell_type": "code",
      "metadata": {
        "id": "u-cQaO9oa0QI"
      },
      "source": [
        "import numpy\n",
        "numpy.set_printoptions(legacy = \"1.13\")\n",
        "\n",
        "\n",
        "n, m = map(int,(input().split()))\n",
        "\n",
        "print (numpy.eye(n, m))"
      ],
      "execution_count": null,
      "outputs": []
    },
    {
      "cell_type": "markdown",
      "metadata": {
        "id": "raQjfVvka0VN"
      },
      "source": [
        "**Array Mathematics**"
      ]
    },
    {
      "cell_type": "code",
      "metadata": {
        "id": "J7X32ry9a0aM"
      },
      "source": [
        "import numpy\n",
        "\n",
        "n, m = map(int, input().split())\n",
        "\n",
        "a = []\n",
        "b = []\n",
        "\n",
        "for i in range(n):\n",
        "    lst_a = list(map(int, input().split()))\n",
        "    a.append(lst_a)\n",
        "    \n",
        "for i in range(n):\n",
        "    lst_b = list(map(int, input().split()))\n",
        "    b.append(lst_b)\n",
        "\n",
        "arr_a = numpy.array(a)\n",
        "arr_b = numpy.array(b)\n",
        "\n",
        "print (numpy.add(arr_a, arr_b))                     \n",
        "print (numpy.subtract(arr_a, arr_b))     \n",
        "print (numpy.multiply(arr_a, arr_b))       \n",
        "print (numpy.floor_divide(arr_a, arr_b))        \n",
        "print (numpy.mod(arr_a, arr_b))            \n",
        "print (numpy.power(arr_a, arr_b))   \n"
      ],
      "execution_count": null,
      "outputs": []
    },
    {
      "cell_type": "markdown",
      "metadata": {
        "id": "sP-ohZ18a0fM"
      },
      "source": [
        "**Floor, Ceil and Rint**"
      ]
    },
    {
      "cell_type": "code",
      "metadata": {
        "id": "Fm2HGI6Ya0kQ"
      },
      "source": [
        "import numpy\n",
        "numpy.set_printoptions(legacy = \"1.13\")\n",
        "\n",
        "l = list(map(float, input().split()))\n",
        "my_array = numpy.array(l)\n",
        "\n",
        "print (numpy.floor(my_array))\n",
        "print (numpy.ceil(my_array))\n",
        "print (numpy.rint(my_array))"
      ],
      "execution_count": null,
      "outputs": []
    },
    {
      "cell_type": "markdown",
      "metadata": {
        "id": "8YjmRzzAa0p1"
      },
      "source": [
        "**Sum and Prod**"
      ]
    },
    {
      "cell_type": "code",
      "metadata": {
        "id": "qj8Axkg3a0uS"
      },
      "source": [
        "import numpy\n",
        "\n",
        "n, m = map(int, input().split())\n",
        "\n",
        "l = []\n",
        "\n",
        "for i in range(n):\n",
        "    arr = list(map(int, input().split()))\n",
        "    l.append(arr)\n",
        "    \n",
        "my_array = numpy.array(l)\n",
        "sum_array = numpy.sum(my_array, axis = 0)\n",
        "\n",
        "print (numpy.prod(sum_array, axis = None))"
      ],
      "execution_count": null,
      "outputs": []
    },
    {
      "cell_type": "markdown",
      "metadata": {
        "id": "csytEHwOa0zf"
      },
      "source": [
        "**Min and Max**"
      ]
    },
    {
      "cell_type": "code",
      "metadata": {
        "id": "shFT1G1ya04n"
      },
      "source": [
        "import numpy\n",
        "\n",
        "n, m = map(int, input().split())\n",
        "\n",
        "l = []\n",
        "\n",
        "for i in range(n):\n",
        "    arr = list(map(int, input().split()))\n",
        "    l.append(arr)\n",
        "    \n",
        "my_array = numpy.array(l)\n",
        "\n",
        "min_arr = numpy.min(my_array, axis = 1)\n",
        "print (numpy.max(min_arr, axis = None))"
      ],
      "execution_count": null,
      "outputs": []
    },
    {
      "cell_type": "markdown",
      "metadata": {
        "id": "vGRyfQWha1D9"
      },
      "source": [
        "**Mean, Var, and Std**"
      ]
    },
    {
      "cell_type": "code",
      "metadata": {
        "id": "sWTMLHeJa1Jt"
      },
      "source": [
        "import numpy \n",
        "\n",
        "\n",
        "\"\"\"\n",
        "n, m = map(int, input().split())\n",
        "\n",
        "l = []\n",
        "\n",
        "for i in range(n):\n",
        "    arr = list(map(int, input().split()))\n",
        "    l.append(arr)\n",
        "    \n",
        "my_array = numpy.array(l)\n",
        "\n",
        "new_array = numpy.array()\n",
        "\n",
        "print (numpy.mean(my_array, axis = 1))\n",
        "print (numpy.var(my_array, axis = 0))\n",
        "print(round(numpy.std(my_array), 11))\n",
        "\n",
        "\"\"\"\n",
        "\n",
        "n, m = map(int,input().split()) \n",
        "\n",
        "my_array = numpy.array([input().split() for i in range(n)],int) \n",
        "print (numpy.mean(my_array, axis=1)) \n",
        "print(numpy.var(my_array,axis=0)) \n",
        "print(round(numpy.std(my_array), 11))"
      ],
      "execution_count": null,
      "outputs": []
    },
    {
      "cell_type": "markdown",
      "metadata": {
        "id": "lfnqni0-a1Pl"
      },
      "source": [
        "**Dot and Cross**"
      ]
    },
    {
      "cell_type": "code",
      "metadata": {
        "id": "424x2K6ka1Uj"
      },
      "source": [
        "import numpy\n",
        "\n",
        "n = int(input())\n",
        "\n",
        "list1 = []\n",
        "list2 = []\n",
        "\n",
        "for i in range(n):\n",
        "    arr1 = list(map(int, input().split()))\n",
        "    list1.append(arr1)\n",
        "    \n",
        "for i in range(n):\n",
        "    arr2 = list(map(int, input().split()))\n",
        "    list2.append(arr2)\n",
        "    \n",
        "array_1 = numpy.array(list1)\n",
        "array_2 = numpy.array(list2)  \n",
        "\n",
        "print (numpy.dot(array_1, array_2))"
      ],
      "execution_count": null,
      "outputs": []
    },
    {
      "cell_type": "markdown",
      "metadata": {
        "id": "IwbsOtTMdUvw"
      },
      "source": [
        "**Inner and Outer**"
      ]
    },
    {
      "cell_type": "code",
      "metadata": {
        "id": "1ZNGHILbdU2p"
      },
      "source": [
        "import numpy\n",
        "\n",
        "\n",
        "arr1 = list(map(int, input().split())) \n",
        "arr2 = list(map(int, input().split()))\n",
        "\n",
        "array_1 = numpy.array(arr1)\n",
        "array_2 = numpy.array(arr2)  \n",
        "\n",
        "print (numpy.inner(array_1, array_2))\n",
        "print (numpy.outer(array_1, array_2))"
      ],
      "execution_count": null,
      "outputs": []
    },
    {
      "cell_type": "markdown",
      "metadata": {
        "id": "svZHaH4XdU7-"
      },
      "source": [
        "**Polynomials**"
      ]
    },
    {
      "cell_type": "code",
      "metadata": {
        "id": "qm89K4-7dVCI"
      },
      "source": [
        "import numpy\n",
        "\n",
        "arr = list(map(float, input().split())) \n",
        "x = int(input())\n",
        "\n",
        "array = numpy.array(arr)\n",
        " \n",
        "\n",
        "print (numpy.polyval(array, x))"
      ],
      "execution_count": null,
      "outputs": []
    },
    {
      "cell_type": "markdown",
      "metadata": {
        "id": "pLI2CRK7dXTu"
      },
      "source": [
        "**Linear Algebra**"
      ]
    },
    {
      "cell_type": "code",
      "metadata": {
        "id": "07K4YXjgdXZP"
      },
      "source": [
        "import numpy\n",
        "\n",
        "n = int(input())\n",
        "\n",
        "lst = []\n",
        "\n",
        "for i in range(n):\n",
        "    arr = list(map(float, input().split()))\n",
        "    lst.append(arr)\n",
        "   \n",
        "array = numpy.array(lst)\n",
        "\n",
        "numpy.set_printoptions(legacy='1.13')\n",
        "print(numpy.linalg.det(array))"
      ],
      "execution_count": null,
      "outputs": []
    },
    {
      "cell_type": "markdown",
      "metadata": {
        "id": "_TLT0mPzeFjo"
      },
      "source": [
        "# **Implementation of some algorithms**"
      ]
    },
    {
      "cell_type": "markdown",
      "metadata": {
        "id": "GUW4Q47jeFvG"
      },
      "source": [
        "**Birthday Cake Candles**"
      ]
    },
    {
      "cell_type": "code",
      "metadata": {
        "id": "SYWupi1oeXol"
      },
      "source": [
        "import math\n",
        "import os\n",
        "import random\n",
        "import re\n",
        "import sys\n",
        "\n",
        "#\n",
        "# Complete the 'birthdayCakeCandles' function below.\n",
        "#\n",
        "# The function is expected to return an INTEGER.\n",
        "# The function accepts INTEGER_ARRAY candles as parameter.\n",
        "#\n",
        "\n",
        "def birthdayCakeCandles(candles):\n",
        "    # Write your code here\n",
        "    maximum = max(candles)\n",
        "    return candles.count(maximum)\n",
        "\n",
        "if __name__ == '__main__':\n",
        "    fptr = open(os.environ['OUTPUT_PATH'], 'w')\n",
        "\n",
        "    candles_count = int(input().strip())\n",
        "\n",
        "    candles = list(map(int, input().rstrip().split()))\n",
        "\n",
        "    result = birthdayCakeCandles(candles)\n",
        "\n",
        "    fptr.write(str(result) + '\\n')\n",
        "\n",
        "    fptr.close()"
      ],
      "execution_count": null,
      "outputs": []
    },
    {
      "cell_type": "markdown",
      "metadata": {
        "id": "5P323AoSeXvo"
      },
      "source": [
        "**Number Line Jumps**"
      ]
    },
    {
      "cell_type": "code",
      "metadata": {
        "id": "yjwBZRboeX3d"
      },
      "source": [
        "import math\n",
        "import os\n",
        "import random\n",
        "import re\n",
        "import sys\n",
        "\n",
        "#\n",
        "# Complete the 'kangaroo' function below.\n",
        "#\n",
        "# The function is expected to return a STRING.\n",
        "# The function accepts following parameters:\n",
        "#  1. INTEGER x1\n",
        "#  2. INTEGER v1\n",
        "#  3. INTEGER x2\n",
        "#  4. INTEGER v2\n",
        "#\n",
        "\n",
        "def kangaroo(x1, v1, x2, v2):\n",
        "    # Write your code here\n",
        "    if (x1 < x2 and v1 <= v2) or ((abs(x2 - x1) % abs(v1 - v2) != 0)):\n",
        "        return 'NO'\n",
        "    else:\n",
        "        return 'YES' #the two meet if x1+v1*n_jumps = x2+v2*n_jumps, \n",
        "    # i.e., if abs(x2 - x1) % abs(v1 - v2) != 0\n",
        "\n",
        "if __name__ == '__main__':\n",
        "    fptr = open(os.environ['OUTPUT_PATH'], 'w')\n",
        "\n",
        "    first_multiple_input = input().rstrip().split()\n",
        "\n",
        "    x1 = int(first_multiple_input[0])\n",
        "\n",
        "    v1 = int(first_multiple_input[1])\n",
        "\n",
        "    x2 = int(first_multiple_input[2])\n",
        "\n",
        "    v2 = int(first_multiple_input[3])\n",
        "\n",
        "    result = kangaroo(x1, v1, x2, v2)\n",
        "\n",
        "    fptr.write(result + '\\n')\n",
        "\n",
        "    fptr.close()"
      ],
      "execution_count": null,
      "outputs": []
    },
    {
      "cell_type": "markdown",
      "metadata": {
        "id": "t8UMQ09_eX_t"
      },
      "source": [
        "**Viral Advertising**"
      ]
    },
    {
      "cell_type": "code",
      "metadata": {
        "id": "lJhalkfjeYGV"
      },
      "source": [
        "import math\n",
        "import os\n",
        "import random\n",
        "import re\n",
        "import sys\n",
        "from math import floor\n",
        "#\n",
        "# Complete the 'viralAdvertising' function below.\n",
        "#\n",
        "# The function is expected to return an INTEGER.\n",
        "# The function accepts INTEGER n as parameter.\n",
        "#\n",
        "\n",
        "def viralAdvertising(n):\n",
        "    # Write your code here\n",
        "\n",
        "        l = [2]\n",
        "        cumulative = [2]\n",
        "        \n",
        "\n",
        "        if n == 1:\n",
        "            print(l[0])\n",
        "            \n",
        "        else:\n",
        "            for i in range(n - 1):\n",
        "                liked = floor(l[i]/2) + l[i]  #notice that each number in liked is floor of (previous number divide by 2) plus the previous number\n",
        "                l.append(liked)\n",
        "                prox_numb = liked + cumulative[-1] # add likes of the day to cumulative count\n",
        "                cumulative.append(prox_numb)\n",
        "            return cumulative[-1]\n",
        "    \n",
        "\n",
        "if __name__ == '__main__':\n",
        "    fptr = open(os.environ['OUTPUT_PATH'], 'w')\n",
        "\n",
        "    n = int(input().strip())\n",
        "\n",
        "    result = viralAdvertising(n)\n",
        "\n",
        "    fptr.write(str(result) + '\\n')\n",
        "\n",
        "    fptr.close()"
      ],
      "execution_count": null,
      "outputs": []
    },
    {
      "cell_type": "markdown",
      "metadata": {
        "id": "EvwYPv3meYMx"
      },
      "source": [
        "**Recursive Digit Sum**"
      ]
    },
    {
      "cell_type": "code",
      "metadata": {
        "id": "hWqFRTv7eYSp"
      },
      "source": [
        "import math\n",
        "import os\n",
        "import random\n",
        "import re\n",
        "import sys\n",
        "\n",
        "#\n",
        "# Complete the 'superDigit' function below.\n",
        "#\n",
        "# The function is expected to return an INTEGER.\n",
        "# The function accepts following parameters:\n",
        "#  1. STRING n\n",
        "#  2. INTEGER k\n",
        "#\n",
        "\n",
        "def superDigit(n, k):\n",
        "    # Write your code here\n",
        "    l = len(n)\n",
        "    \n",
        "    if l != 1:\n",
        "        count = 0\n",
        "        for el in n: \n",
        "            count += int(el)\n",
        "            \n",
        "        str_count = str(k * count) # e.g., str(148) * 3 = 148148148\n",
        "        return superDigit(str_count,1) #if len(count) > 1: recursion\n",
        "    \n",
        "    elif l == 1: \n",
        "        return int(n)\n",
        "\n",
        "if __name__ == '__main__':\n",
        "    fptr = open(os.environ['OUTPUT_PATH'], 'w')\n",
        "\n",
        "    first_multiple_input = input().rstrip().split()\n",
        "\n",
        "    n = first_multiple_input[0]\n",
        "\n",
        "    k = int(first_multiple_input[1])\n",
        "\n",
        "    result = superDigit(n, k)\n",
        "\n",
        "    fptr.write(str(result) + '\\n')\n",
        "\n",
        "    fptr.close()"
      ],
      "execution_count": null,
      "outputs": []
    },
    {
      "cell_type": "markdown",
      "metadata": {
        "id": "YY5nyLpQeYYV"
      },
      "source": [
        "**Insertion Sort - Part 1**"
      ]
    },
    {
      "cell_type": "code",
      "metadata": {
        "id": "nEhtJ2IjeYd2"
      },
      "source": [
        "import math\n",
        "import os\n",
        "import random\n",
        "import re\n",
        "import sys\n",
        "\n",
        "#\n",
        "# Complete the 'insertionSort1' function below.\n",
        "#\n",
        "# The function accepts following parameters:\n",
        "#  1. INTEGER n\n",
        "#  2. INTEGER_ARRAY arr\n",
        "#\n",
        "\n",
        "def insertionSort1(n, arr):\n",
        "    # Write your code here\n",
        "    i = n-1\n",
        "    ins = arr[i]\n",
        "    if arr[i-1] == ins:\n",
        "        print (arr[:(i-1)])\n",
        "    while arr[i-1] > ins and arr[i-1] != arr[-1]:\n",
        "        arr[i] = arr[i-1]\n",
        "        print (*arr)\n",
        "        i -= 1\n",
        "    arr[i] = ins\n",
        "    print (*arr)\n",
        "\n",
        "if __name__ == '__main__':\n",
        "    n = int(input().strip())\n",
        "\n",
        "    arr = list(map(int, input().rstrip().split()))\n",
        "\n",
        "    insertionSort1(n, arr)"
      ],
      "execution_count": null,
      "outputs": []
    },
    {
      "cell_type": "markdown",
      "metadata": {
        "id": "1aKqgboPeYj0"
      },
      "source": [
        "**Insertion Sort - Part 2**"
      ]
    },
    {
      "cell_type": "code",
      "metadata": {
        "id": "kdEZTTjkeYo4"
      },
      "source": [
        "import math\n",
        "import os\n",
        "import random\n",
        "import re\n",
        "import sys\n",
        "\n",
        "#\n",
        "# Complete the 'insertionSort2' function below.\n",
        "#\n",
        "# The function accepts following parameters:\n",
        "#  1. INTEGER n\n",
        "#  2. INTEGER_ARRAY arr\n",
        "#\n",
        "\n",
        "def insertionSort2(n, arr):\n",
        "    # Write your code here\n",
        "    for i in range(1, len(arr)):\n",
        "        ind = arr[i]\n",
        "        m = i-1\n",
        "        while m >=0 and ind < arr[m] :\n",
        "            arr[m+1] = arr[m]\n",
        "            m -= 1\n",
        "        arr[m+1] = ind\n",
        "        print(*arr)\n",
        "\n",
        "if __name__ == '__main__':\n",
        "    n = int(input().strip())\n",
        "\n",
        "    arr = list(map(int, input().rstrip().split()))\n",
        "\n",
        "    insertionSort2(n, arr)"
      ],
      "execution_count": null,
      "outputs": []
    }
  ]
}